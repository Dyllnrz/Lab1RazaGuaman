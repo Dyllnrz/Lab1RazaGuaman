{
  "cells": [
    {
      "cell_type": "markdown",
      "source": [
        "#Transfer Learning"
      ],
      "metadata": {
        "id": "7Gxgs4FjoxVk"
      },
      "id": "7Gxgs4FjoxVk"
    },
    {
      "cell_type": "code",
      "source": [
        "'''Importación de librerías necesarias para la ejecución'''\n",
        "import os\n",
        "import cv2\n",
        "import numpy as np\n",
        "from PIL import Image\n",
        "import matplotlib.pyplot as plt\n",
        "from sklearn.model_selection import train_test_split\n",
        "os.environ['TF_CPP_MIN_LOG_LEVEL'] = '3' \n",
        "from tensorflow.keras.utils import to_categorical\n",
        "from tensorflow.keras.applications.vgg16 import VGG16\n",
        "from tensorflow.keras.applications.vgg19 import VGG19\n",
        "from tensorflow.keras.applications.vgg16 import preprocess_input\n",
        "from tensorflow.keras.applications.vgg19 import preprocess_input\n",
        "from tensorflow.keras import layers, models\n",
        "from tensorflow.keras.callbacks import EarlyStopping\n",
        "import tensorflow as tf\n",
        "from sklearn.metrics import accuracy_score, precision_score, recall_score, f1_score"
      ],
      "metadata": {
        "id": "LKlWstV_1zPc"
      },
      "id": "LKlWstV_1zPc",
      "execution_count": null,
      "outputs": []
    },
    {
      "cell_type": "code",
      "source": [
        "'''Lectura de la ruta del dataset'''\n",
        "fpath = './Granadilla_Aument'\n",
        "random_seed = 10\n",
        "\n",
        "'''Lectura de categorías existentes del dataset'''\n",
        "\n",
        "categories = 'Granadilla', 'Granadilla_N'\n",
        "print(\"List of categories = \",categories,\"\\n\\nNo. of categories = \", len(categories))"
      ],
      "metadata": {
        "id": "r3F4cJCL9gyJ",
        "colab": {
          "base_uri": "https://localhost:8080/"
        },
        "outputId": "c941fe80-fec7-4eb1-e7a0-a016d3419a77"
      },
      "id": "r3F4cJCL9gyJ",
      "execution_count": null,
      "outputs": [
        {
          "output_type": "stream",
          "name": "stdout",
          "text": [
            "List of categories =  ('Granadilla', 'Granadilla_N') \n",
            "\n",
            "No. of categories =  2\n"
          ]
        }
      ]
    },
    {
      "cell_type": "code",
      "source": [
        "'''Carga de imágenes sobre sus clases existentes'''\n",
        "def load_images_and_labels(categories):\n",
        "    img_lst=[]\n",
        "    labels=[]\n",
        "    for index, category in enumerate(categories):\n",
        "        for image_name in os.listdir(fpath+\"/\"+category):\n",
        "            img = cv2.imread(fpath+\"/\"+category+\"/\"+image_name)\n",
        "            img = cv2.cvtColor(img, cv2.COLOR_BGR2RGB)\n",
        "            \n",
        "            img_array = Image.fromarray(img, 'RGB')\n",
        "            \n",
        "            img_lst.append(np.array(img_array))\n",
        "            \n",
        "            labels.append(index)\n",
        "    return img_lst, labels\n",
        "\n",
        "images, labels = load_images_and_labels(categories)\n",
        "print(\"No. of images loaded = \",len(images),\"\\nNo. of labels loaded = \",len(labels))\n",
        "print(type(images),type(labels))"
      ],
      "metadata": {
        "id": "ofTeK9lC9k3w",
        "colab": {
          "base_uri": "https://localhost:8080/"
        },
        "outputId": "9043408a-f907-41bc-f48d-f482e7ecfe71"
      },
      "id": "ofTeK9lC9k3w",
      "execution_count": null,
      "outputs": [
        {
          "output_type": "stream",
          "name": "stdout",
          "text": [
            "No. of images loaded =  367 \n",
            "No. of labels loaded =  367\n",
            "<class 'list'> <class 'list'>\n"
          ]
        }
      ]
    }
  ],
  "metadata": {
    "kernelspec": {
      "display_name": "Python 3 (ipykernel)",
      "language": "python",
      "name": "python3"
    },
    "language_info": {
      "codemirror_mode": {
        "name": "ipython",
        "version": 3
      },
      "file_extension": ".py",
      "mimetype": "text/x-python",
      "name": "python",
      "nbconvert_exporter": "python",
      "pygments_lexer": "ipython3",
      "version": "3.8.10"
    },
    "colab": {
      "name": "1. Image_Preprocessing.ipynb",
      "provenance": [],
      "collapsed_sections": []
    },
    "gpuClass": "standard",
    "accelerator": "GPU"
  },
  "nbformat": 4,
  "nbformat_minor": 5
}